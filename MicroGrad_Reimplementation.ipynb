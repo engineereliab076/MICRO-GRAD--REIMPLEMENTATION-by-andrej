{
  "nbformat": 4,
  "nbformat_minor": 0,
  "metadata": {
    "colab": {
      "provenance": [],
      "authorship_tag": "ABX9TyNS4f14PIExVWAONiTmzpZW",
      "include_colab_link": true
    },
    "kernelspec": {
      "name": "python3",
      "display_name": "Python 3"
    },
    "language_info": {
      "name": "python"
    }
  },
  "cells": [
    {
      "cell_type": "markdown",
      "metadata": {
        "id": "view-in-github",
        "colab_type": "text"
      },
      "source": [
        "<a href=\"https://colab.research.google.com/github/engineereliab076/MICRO-GRAD--REIMPLEMENTATION-by-andrej/blob/main/MicroGrad_Reimplementation.ipynb\" target=\"_parent\"><img src=\"https://colab.research.google.com/assets/colab-badge.svg\" alt=\"Open In Colab\"/></a>"
      ]
    },
    {
      "cell_type": "code",
      "source": [
        "import numpy as np\n",
        "import math"
      ],
      "metadata": {
        "id": "N0EVJ5AT_79M"
      },
      "execution_count": 193,
      "outputs": []
    },
    {
      "cell_type": "code",
      "execution_count": 194,
      "metadata": {
        "id": "rVDsuMWGmmcf"
      },
      "outputs": [],
      "source": [
        "class Value:\n",
        "\n",
        "  def __init__(self, data, _children=(), _op='', label=''):\n",
        "    self.data = data\n",
        "    self._prev = set(_children)\n",
        "    self._op = _op\n",
        "    self.label = label\n",
        "    self.grad = 0\n",
        "    self._backward = lambda: None\n",
        "\n",
        "  def __repr__(self):\n",
        "    return f\"Value(data = {self.data})\"\n",
        "\n",
        "  def __add__(self, other):\n",
        "    other = other if isinstance(other, Value) else Value(other)\n",
        "    out = Value(self.data + other.data, (self, other), '+')\n",
        "\n",
        "    def _backward():\n",
        "      self.grad += 1.0 * out.grad\n",
        "      other.grad += 1.0 * out.grad\n",
        "    out._backward = _backward\n",
        "\n",
        "    return out\n",
        "\n",
        "  def __mul__(self, other):\n",
        "    other = other if isinstance(other, Value) else Value(other)\n",
        "    out = Value(self.data * other.data, (self, other), '*')\n",
        "\n",
        "    def _backward():\n",
        "      self.grad += other.data * out.grad\n",
        "      other.grad += self.data * out.grad\n",
        "    out._backward = _backward\n",
        "    return out\n",
        "\n",
        "  def __pow__(self, other):\n",
        "    out = Value(self.data**other.data, (self,), f\"{other}\")\n",
        "\n",
        "    def _backward():\n",
        "      self.grad += other.data * self.data**(other - 1) * out.grad\n",
        "    out._backward = _backward\n",
        "\n",
        "    return out\n",
        "  def __rmul__(self, other): # other + self\n",
        "    return self * other\n",
        "  def __neg__(self):\n",
        "    return self * -1\n",
        "\n",
        "  def __sub__(self,other):\n",
        "    return self + (-other)\n",
        "\n",
        "  def __truediv__(self, other):\n",
        "    return self * other**-1\n",
        "\n",
        "  def __radd__(self, other): # other + self\n",
        "    return other + self\n",
        "\n",
        "  def tanh(self):\n",
        "    x = self.data\n",
        "    t = (math.exp(2*x) - 1) / (math.exp(2*x) + 1)\n",
        "    out = Value(t, (self, ), 'tanh')\n",
        "\n",
        "    def _backward():\n",
        "      self.grad += (1 - t**2) * out.grad\n",
        "    out._backward = _backward\n",
        "    return out\n",
        "\n",
        "  def exp(self):\n",
        "      x = self.data\n",
        "      out = Value(math.exp(x), (self, ), 'exp')\n",
        "\n",
        "      def _backward():\n",
        "        self.grad += out.data * out.grad\n",
        "      out._backward = _backward\n",
        "      return out\n",
        "\n",
        "  def backward(self):\n",
        "\n",
        "      topo = []\n",
        "      visited = set()\n",
        "      def build_topo(v):\n",
        "        if v not in visited:\n",
        "          visited.add(v)\n",
        "          for child in v._prev:\n",
        "            build_topo(child)\n",
        "          topo.append(v)\n",
        "      build_topo(self)\n",
        "      topo\n",
        "\n",
        "      self.grad = 1.0\n",
        "      for node in reversed(topo):\n",
        "        node._backward()\n",
        ""
      ]
    },
    {
      "cell_type": "code",
      "source": [
        "from graphviz import Digraph\n",
        "\n",
        "def trace(root):\n",
        "  # builds a set of all nodes and edges in a graph\n",
        "  nodes, edges = set(), set()\n",
        "  def build(v):\n",
        "    if v not in nodes:\n",
        "      nodes.add(v)\n",
        "      for child in v._prev:\n",
        "        edges.add((child, v))\n",
        "        build(child)\n",
        "  build(root)\n",
        "  return nodes, edges\n",
        "\n",
        "def draw_dot(root):\n",
        "  dot= Digraph(format='svg', graph_attr={'rankdir': 'LR'}) #LR = left to right\n",
        "\n",
        "  nodes, edges = trace(root)\n",
        "  for n in nodes:\n",
        "    uid = str(id(n))\n",
        "    # for any value in the graph, create a rectangular ('record') node for it\n",
        "    dot.node(name = uid, label = \"{%s | data %.4f | grad % .4f}\" % (n.label,n.data, n.grad), shape='record')\n",
        "    if n._op:\n",
        "      # if this value is a result of some operation , craete an op node for it\n",
        "      dot.node(name = uid + n._op, label = n._op)\n",
        "      # and connect this node to it\n",
        "      dot.edge(uid + n._op, uid)\n",
        "\n",
        "  for n1, n2 in edges:\n",
        "    # connect n1 to the op node of n2\n",
        "    dot.edge(str(id(n1)), str(id(n2)) + n2._op)\n",
        "\n",
        "  return dot"
      ],
      "metadata": {
        "id": "YD14KLkKp0XK"
      },
      "execution_count": 195,
      "outputs": []
    },
    {
      "cell_type": "code",
      "source": [
        "# input x1 and x2\n",
        "x1 = Value(2.0, label='x1')\n",
        "x2 = Value(0.0, label='x2')\n",
        "\n",
        "# weights w1 , w2\n",
        "w1 = Value(-3.0, label='w1')\n",
        "w2 = Value(1.0, label='w2')\n",
        "\n",
        "# bias\n",
        "b = Value(6.8813735870195432, label='b')\n",
        "\n",
        "# x1*w1 + x2*w2 + b\n",
        "a = x1*w1; a.label='a'\n",
        "d = x2*w2; d.label='d'\n",
        "e = a + d; e.label='e'\n",
        "n = e + b; n.label='n'\n",
        "o = n.tanh(); o.label='o'"
      ],
      "metadata": {
        "id": "1K7es27ovMOD"
      },
      "execution_count": 196,
      "outputs": []
    },
    {
      "cell_type": "code",
      "source": [
        "o.backward()"
      ],
      "metadata": {
        "id": "jWRZCvKkDUGg"
      },
      "execution_count": 202,
      "outputs": []
    },
    {
      "cell_type": "code",
      "source": [
        "draw_dot(o)"
      ],
      "metadata": {
        "colab": {
          "base_uri": "https://localhost:8080/",
          "height": 321
        },
        "id": "B1FVCoYfBKrn",
        "outputId": "203a7c5e-fc07-44f2-fdb6-0c4efb61ec9b"
      },
      "execution_count": 203,
      "outputs": [
        {
          "output_type": "execute_result",
          "data": {
            "image/svg+xml": "<?xml version=\"1.0\" encoding=\"UTF-8\" standalone=\"no\"?>\n<!DOCTYPE svg PUBLIC \"-//W3C//DTD SVG 1.1//EN\"\n \"http://www.w3.org/Graphics/SVG/1.1/DTD/svg11.dtd\">\n<!-- Generated by graphviz version 2.43.0 (0)\n -->\n<!-- Title: %3 Pages: 1 -->\n<svg width=\"1462pt\" height=\"210pt\"\n viewBox=\"0.00 0.00 1462.00 210.00\" xmlns=\"http://www.w3.org/2000/svg\" xmlns:xlink=\"http://www.w3.org/1999/xlink\">\n<g id=\"graph0\" class=\"graph\" transform=\"scale(1 1) rotate(0) translate(4 206)\">\n<title>%3</title>\n<polygon fill=\"white\" stroke=\"transparent\" points=\"-4,4 -4,-206 1458,-206 1458,4 -4,4\"/>\n<!-- 139490056947216 -->\n<g id=\"node1\" class=\"node\">\n<title>139490056947216</title>\n<polygon fill=\"none\" stroke=\"black\" points=\"328.5,-55.5 328.5,-91.5 513.5,-91.5 513.5,-55.5 328.5,-55.5\"/>\n<text text-anchor=\"middle\" x=\"340\" y=\"-69.8\" font-family=\"Times,serif\" font-size=\"14.00\">d</text>\n<polyline fill=\"none\" stroke=\"black\" points=\"351.5,-55.5 351.5,-91.5 \"/>\n<text text-anchor=\"middle\" x=\"391.5\" y=\"-69.8\" font-family=\"Times,serif\" font-size=\"14.00\">data 0.0000</text>\n<polyline fill=\"none\" stroke=\"black\" points=\"431.5,-55.5 431.5,-91.5 \"/>\n<text text-anchor=\"middle\" x=\"472.5\" y=\"-69.8\" font-family=\"Times,serif\" font-size=\"14.00\">grad 0.5000</text>\n</g>\n<!-- 139490056948048+ -->\n<g id=\"node12\" class=\"node\">\n<title>139490056948048+</title>\n<ellipse fill=\"none\" stroke=\"black\" cx=\"579\" cy=\"-100.5\" rx=\"27\" ry=\"18\"/>\n<text text-anchor=\"middle\" x=\"579\" y=\"-96.8\" font-family=\"Times,serif\" font-size=\"14.00\">+</text>\n</g>\n<!-- 139490056947216&#45;&gt;139490056948048+ -->\n<g id=\"edge10\" class=\"edge\">\n<title>139490056947216&#45;&gt;139490056948048+</title>\n<path fill=\"none\" stroke=\"black\" d=\"M513.65,-89.36C523.94,-91.14 533.91,-92.87 542.81,-94.41\"/>\n<polygon fill=\"black\" stroke=\"black\" points=\"542.26,-97.87 552.71,-96.12 543.45,-90.97 542.26,-97.87\"/>\n</g>\n<!-- 139490056947216* -->\n<g id=\"node2\" class=\"node\">\n<title>139490056947216*</title>\n<ellipse fill=\"none\" stroke=\"black\" cx=\"263\" cy=\"-73.5\" rx=\"27\" ry=\"18\"/>\n<text text-anchor=\"middle\" x=\"263\" y=\"-69.8\" font-family=\"Times,serif\" font-size=\"14.00\">*</text>\n</g>\n<!-- 139490056947216*&#45;&gt;139490056947216 -->\n<g id=\"edge1\" class=\"edge\">\n<title>139490056947216*&#45;&gt;139490056947216</title>\n<path fill=\"none\" stroke=\"black\" d=\"M290.11,-73.5C298.39,-73.5 308.1,-73.5 318.42,-73.5\"/>\n<polygon fill=\"black\" stroke=\"black\" points=\"318.47,-77 328.47,-73.5 318.47,-70 318.47,-77\"/>\n</g>\n<!-- 139490056957520 -->\n<g id=\"node3\" class=\"node\">\n<title>139490056957520</title>\n<polygon fill=\"none\" stroke=\"black\" points=\"958,-109.5 958,-145.5 1143,-145.5 1143,-109.5 958,-109.5\"/>\n<text text-anchor=\"middle\" x=\"969.5\" y=\"-123.8\" font-family=\"Times,serif\" font-size=\"14.00\">n</text>\n<polyline fill=\"none\" stroke=\"black\" points=\"981,-109.5 981,-145.5 \"/>\n<text text-anchor=\"middle\" x=\"1021\" y=\"-123.8\" font-family=\"Times,serif\" font-size=\"14.00\">data 0.8814</text>\n<polyline fill=\"none\" stroke=\"black\" points=\"1061,-109.5 1061,-145.5 \"/>\n<text text-anchor=\"middle\" x=\"1102\" y=\"-123.8\" font-family=\"Times,serif\" font-size=\"14.00\">grad 0.5000</text>\n</g>\n<!-- 139490056946768tanh -->\n<g id=\"node6\" class=\"node\">\n<title>139490056946768tanh</title>\n<ellipse fill=\"none\" stroke=\"black\" cx=\"1206\" cy=\"-127.5\" rx=\"27\" ry=\"18\"/>\n<text text-anchor=\"middle\" x=\"1206\" y=\"-123.8\" font-family=\"Times,serif\" font-size=\"14.00\">tanh</text>\n</g>\n<!-- 139490056957520&#45;&gt;139490056946768tanh -->\n<g id=\"edge14\" class=\"edge\">\n<title>139490056957520&#45;&gt;139490056946768tanh</title>\n<path fill=\"none\" stroke=\"black\" d=\"M1143.01,-127.5C1152.01,-127.5 1160.74,-127.5 1168.66,-127.5\"/>\n<polygon fill=\"black\" stroke=\"black\" points=\"1168.91,-131 1178.91,-127.5 1168.91,-124 1168.91,-131\"/>\n</g>\n<!-- 139490056957520+ -->\n<g id=\"node4\" class=\"node\">\n<title>139490056957520+</title>\n<ellipse fill=\"none\" stroke=\"black\" cx=\"895\" cy=\"-127.5\" rx=\"27\" ry=\"18\"/>\n<text text-anchor=\"middle\" x=\"895\" y=\"-123.8\" font-family=\"Times,serif\" font-size=\"14.00\">+</text>\n</g>\n<!-- 139490056957520+&#45;&gt;139490056957520 -->\n<g id=\"edge2\" class=\"edge\">\n<title>139490056957520+&#45;&gt;139490056957520</title>\n<path fill=\"none\" stroke=\"black\" d=\"M922.04,-127.5C929.58,-127.5 938.3,-127.5 947.57,-127.5\"/>\n<polygon fill=\"black\" stroke=\"black\" points=\"947.81,-131 957.81,-127.5 947.81,-124 947.81,-131\"/>\n</g>\n<!-- 139490056946768 -->\n<g id=\"node5\" class=\"node\">\n<title>139490056946768</title>\n<polygon fill=\"none\" stroke=\"black\" points=\"1269,-109.5 1269,-145.5 1454,-145.5 1454,-109.5 1269,-109.5\"/>\n<text text-anchor=\"middle\" x=\"1280.5\" y=\"-123.8\" font-family=\"Times,serif\" font-size=\"14.00\">o</text>\n<polyline fill=\"none\" stroke=\"black\" points=\"1292,-109.5 1292,-145.5 \"/>\n<text text-anchor=\"middle\" x=\"1332\" y=\"-123.8\" font-family=\"Times,serif\" font-size=\"14.00\">data 0.7071</text>\n<polyline fill=\"none\" stroke=\"black\" points=\"1372,-109.5 1372,-145.5 \"/>\n<text text-anchor=\"middle\" x=\"1413\" y=\"-123.8\" font-family=\"Times,serif\" font-size=\"14.00\">grad 1.0000</text>\n</g>\n<!-- 139490056946768tanh&#45;&gt;139490056946768 -->\n<g id=\"edge3\" class=\"edge\">\n<title>139490056946768tanh&#45;&gt;139490056946768</title>\n<path fill=\"none\" stroke=\"black\" d=\"M1233.04,-127.5C1240.58,-127.5 1249.3,-127.5 1258.57,-127.5\"/>\n<polygon fill=\"black\" stroke=\"black\" points=\"1258.81,-131 1268.81,-127.5 1258.81,-124 1258.81,-131\"/>\n</g>\n<!-- 139490075874896 -->\n<g id=\"node7\" class=\"node\">\n<title>139490075874896</title>\n<polygon fill=\"none\" stroke=\"black\" points=\"2,-165.5 2,-201.5 198,-201.5 198,-165.5 2,-165.5\"/>\n<text text-anchor=\"middle\" x=\"17\" y=\"-179.8\" font-family=\"Times,serif\" font-size=\"14.00\">x1</text>\n<polyline fill=\"none\" stroke=\"black\" points=\"32,-165.5 32,-201.5 \"/>\n<text text-anchor=\"middle\" x=\"72\" y=\"-179.8\" font-family=\"Times,serif\" font-size=\"14.00\">data 2.0000</text>\n<polyline fill=\"none\" stroke=\"black\" points=\"112,-165.5 112,-201.5 \"/>\n<text text-anchor=\"middle\" x=\"155\" y=\"-179.8\" font-family=\"Times,serif\" font-size=\"14.00\">grad &#45;1.5000</text>\n</g>\n<!-- 139490056959120* -->\n<g id=\"node9\" class=\"node\">\n<title>139490056959120*</title>\n<ellipse fill=\"none\" stroke=\"black\" cx=\"263\" cy=\"-128.5\" rx=\"27\" ry=\"18\"/>\n<text text-anchor=\"middle\" x=\"263\" y=\"-124.8\" font-family=\"Times,serif\" font-size=\"14.00\">*</text>\n</g>\n<!-- 139490075874896&#45;&gt;139490056959120* -->\n<g id=\"edge11\" class=\"edge\">\n<title>139490075874896&#45;&gt;139490056959120*</title>\n<path fill=\"none\" stroke=\"black\" d=\"M172.53,-165.44C181.84,-162.67 191.2,-159.67 200,-156.5 210.53,-152.71 221.75,-147.9 231.72,-143.33\"/>\n<polygon fill=\"black\" stroke=\"black\" points=\"233.25,-146.48 240.82,-139.07 230.28,-140.14 233.25,-146.48\"/>\n</g>\n<!-- 139490056959120 -->\n<g id=\"node8\" class=\"node\">\n<title>139490056959120</title>\n<polygon fill=\"none\" stroke=\"black\" points=\"326,-110.5 326,-146.5 516,-146.5 516,-110.5 326,-110.5\"/>\n<text text-anchor=\"middle\" x=\"337.5\" y=\"-124.8\" font-family=\"Times,serif\" font-size=\"14.00\">a</text>\n<polyline fill=\"none\" stroke=\"black\" points=\"349,-110.5 349,-146.5 \"/>\n<text text-anchor=\"middle\" x=\"391.5\" y=\"-124.8\" font-family=\"Times,serif\" font-size=\"14.00\">data &#45;6.0000</text>\n<polyline fill=\"none\" stroke=\"black\" points=\"434,-110.5 434,-146.5 \"/>\n<text text-anchor=\"middle\" x=\"475\" y=\"-124.8\" font-family=\"Times,serif\" font-size=\"14.00\">grad 0.5000</text>\n</g>\n<!-- 139490056959120&#45;&gt;139490056948048+ -->\n<g id=\"edge9\" class=\"edge\">\n<title>139490056959120&#45;&gt;139490056948048+</title>\n<path fill=\"none\" stroke=\"black\" d=\"M516.34,-111.57C525.62,-109.9 534.58,-108.29 542.66,-106.84\"/>\n<polygon fill=\"black\" stroke=\"black\" points=\"543.49,-110.25 552.72,-105.04 542.26,-103.36 543.49,-110.25\"/>\n</g>\n<!-- 139490056959120*&#45;&gt;139490056959120 -->\n<g id=\"edge4\" class=\"edge\">\n<title>139490056959120*&#45;&gt;139490056959120</title>\n<path fill=\"none\" stroke=\"black\" d=\"M290.11,-128.5C297.63,-128.5 306.32,-128.5 315.58,-128.5\"/>\n<polygon fill=\"black\" stroke=\"black\" points=\"315.81,-132 325.81,-128.5 315.81,-125 315.81,-132\"/>\n</g>\n<!-- 139490075342096 -->\n<g id=\"node10\" class=\"node\">\n<title>139490075342096</title>\n<polygon fill=\"none\" stroke=\"black\" points=\"0,-110.5 0,-146.5 200,-146.5 200,-110.5 0,-110.5\"/>\n<text text-anchor=\"middle\" x=\"16.5\" y=\"-124.8\" font-family=\"Times,serif\" font-size=\"14.00\">w1</text>\n<polyline fill=\"none\" stroke=\"black\" points=\"33,-110.5 33,-146.5 \"/>\n<text text-anchor=\"middle\" x=\"75.5\" y=\"-124.8\" font-family=\"Times,serif\" font-size=\"14.00\">data &#45;3.0000</text>\n<polyline fill=\"none\" stroke=\"black\" points=\"118,-110.5 118,-146.5 \"/>\n<text text-anchor=\"middle\" x=\"159\" y=\"-124.8\" font-family=\"Times,serif\" font-size=\"14.00\">grad 1.0000</text>\n</g>\n<!-- 139490075342096&#45;&gt;139490056959120* -->\n<g id=\"edge8\" class=\"edge\">\n<title>139490075342096&#45;&gt;139490056959120*</title>\n<path fill=\"none\" stroke=\"black\" d=\"M200.21,-128.5C209.2,-128.5 217.86,-128.5 225.7,-128.5\"/>\n<polygon fill=\"black\" stroke=\"black\" points=\"225.85,-132 235.85,-128.5 225.85,-125 225.85,-132\"/>\n</g>\n<!-- 139490056948048 -->\n<g id=\"node11\" class=\"node\">\n<title>139490056948048</title>\n<polygon fill=\"none\" stroke=\"black\" points=\"642,-82.5 642,-118.5 832,-118.5 832,-82.5 642,-82.5\"/>\n<text text-anchor=\"middle\" x=\"653.5\" y=\"-96.8\" font-family=\"Times,serif\" font-size=\"14.00\">e</text>\n<polyline fill=\"none\" stroke=\"black\" points=\"665,-82.5 665,-118.5 \"/>\n<text text-anchor=\"middle\" x=\"707.5\" y=\"-96.8\" font-family=\"Times,serif\" font-size=\"14.00\">data &#45;6.0000</text>\n<polyline fill=\"none\" stroke=\"black\" points=\"750,-82.5 750,-118.5 \"/>\n<text text-anchor=\"middle\" x=\"791\" y=\"-96.8\" font-family=\"Times,serif\" font-size=\"14.00\">grad 0.5000</text>\n</g>\n<!-- 139490056948048&#45;&gt;139490056957520+ -->\n<g id=\"edge6\" class=\"edge\">\n<title>139490056948048&#45;&gt;139490056957520+</title>\n<path fill=\"none\" stroke=\"black\" d=\"M832.34,-116.83C841.62,-118.44 850.58,-119.99 858.66,-121.38\"/>\n<polygon fill=\"black\" stroke=\"black\" points=\"858.27,-124.87 868.72,-123.12 859.46,-117.97 858.27,-124.87\"/>\n</g>\n<!-- 139490056948048+&#45;&gt;139490056948048 -->\n<g id=\"edge5\" class=\"edge\">\n<title>139490056948048+&#45;&gt;139490056948048</title>\n<path fill=\"none\" stroke=\"black\" d=\"M606.11,-100.5C613.63,-100.5 622.32,-100.5 631.58,-100.5\"/>\n<polygon fill=\"black\" stroke=\"black\" points=\"631.81,-104 641.81,-100.5 631.81,-97 631.81,-104\"/>\n</g>\n<!-- 139490075342160 -->\n<g id=\"node13\" class=\"node\">\n<title>139490075342160</title>\n<polygon fill=\"none\" stroke=\"black\" points=\"4,-55.5 4,-91.5 196,-91.5 196,-55.5 4,-55.5\"/>\n<text text-anchor=\"middle\" x=\"19\" y=\"-69.8\" font-family=\"Times,serif\" font-size=\"14.00\">x2</text>\n<polyline fill=\"none\" stroke=\"black\" points=\"34,-55.5 34,-91.5 \"/>\n<text text-anchor=\"middle\" x=\"74\" y=\"-69.8\" font-family=\"Times,serif\" font-size=\"14.00\">data 0.0000</text>\n<polyline fill=\"none\" stroke=\"black\" points=\"114,-55.5 114,-91.5 \"/>\n<text text-anchor=\"middle\" x=\"155\" y=\"-69.8\" font-family=\"Times,serif\" font-size=\"14.00\">grad 0.5000</text>\n</g>\n<!-- 139490075342160&#45;&gt;139490056947216* -->\n<g id=\"edge12\" class=\"edge\">\n<title>139490075342160&#45;&gt;139490056947216*</title>\n<path fill=\"none\" stroke=\"black\" d=\"M196.05,-73.5C206.52,-73.5 216.65,-73.5 225.71,-73.5\"/>\n<polygon fill=\"black\" stroke=\"black\" points=\"225.79,-77 235.79,-73.5 225.79,-70 225.79,-77\"/>\n</g>\n<!-- 139490056948624 -->\n<g id=\"node14\" class=\"node\">\n<title>139490056948624</title>\n<polygon fill=\"none\" stroke=\"black\" points=\"644.5,-137.5 644.5,-173.5 829.5,-173.5 829.5,-137.5 644.5,-137.5\"/>\n<text text-anchor=\"middle\" x=\"656\" y=\"-151.8\" font-family=\"Times,serif\" font-size=\"14.00\">b</text>\n<polyline fill=\"none\" stroke=\"black\" points=\"667.5,-137.5 667.5,-173.5 \"/>\n<text text-anchor=\"middle\" x=\"707.5\" y=\"-151.8\" font-family=\"Times,serif\" font-size=\"14.00\">data 6.8814</text>\n<polyline fill=\"none\" stroke=\"black\" points=\"747.5,-137.5 747.5,-173.5 \"/>\n<text text-anchor=\"middle\" x=\"788.5\" y=\"-151.8\" font-family=\"Times,serif\" font-size=\"14.00\">grad 0.5000</text>\n</g>\n<!-- 139490056948624&#45;&gt;139490056957520+ -->\n<g id=\"edge7\" class=\"edge\">\n<title>139490056948624&#45;&gt;139490056957520+</title>\n<path fill=\"none\" stroke=\"black\" d=\"M829.65,-139.05C839.94,-137.2 849.91,-135.41 858.81,-133.82\"/>\n<polygon fill=\"black\" stroke=\"black\" points=\"859.48,-137.25 868.71,-132.04 858.25,-130.36 859.48,-137.25\"/>\n</g>\n<!-- 139490075338192 -->\n<g id=\"node15\" class=\"node\">\n<title>139490075338192</title>\n<polygon fill=\"none\" stroke=\"black\" points=\"2.5,-0.5 2.5,-36.5 197.5,-36.5 197.5,-0.5 2.5,-0.5\"/>\n<text text-anchor=\"middle\" x=\"19\" y=\"-14.8\" font-family=\"Times,serif\" font-size=\"14.00\">w2</text>\n<polyline fill=\"none\" stroke=\"black\" points=\"35.5,-0.5 35.5,-36.5 \"/>\n<text text-anchor=\"middle\" x=\"75.5\" y=\"-14.8\" font-family=\"Times,serif\" font-size=\"14.00\">data 1.0000</text>\n<polyline fill=\"none\" stroke=\"black\" points=\"115.5,-0.5 115.5,-36.5 \"/>\n<text text-anchor=\"middle\" x=\"156.5\" y=\"-14.8\" font-family=\"Times,serif\" font-size=\"14.00\">grad 0.0000</text>\n</g>\n<!-- 139490075338192&#45;&gt;139490056947216* -->\n<g id=\"edge13\" class=\"edge\">\n<title>139490075338192&#45;&gt;139490056947216*</title>\n<path fill=\"none\" stroke=\"black\" d=\"M169.28,-36.5C179.65,-39.61 190.16,-42.98 200,-46.5 210.28,-50.17 221.28,-54.74 231.11,-59.07\"/>\n<polygon fill=\"black\" stroke=\"black\" points=\"229.93,-62.37 240.48,-63.27 232.79,-55.99 229.93,-62.37\"/>\n</g>\n</g>\n</svg>\n",
            "text/plain": [
              "<graphviz.graphs.Digraph at 0x7edd8f48e610>"
            ]
          },
          "metadata": {},
          "execution_count": 203
        }
      ]
    }
  ]
}